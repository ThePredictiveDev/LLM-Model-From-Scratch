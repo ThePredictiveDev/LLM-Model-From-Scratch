{
 "cells": [
  {
   "cell_type": "markdown",
   "id": "2f989c43-862f-4480-9231-20f104c62299",
   "metadata": {},
   "source": [
    "# Basic Transformer Based LLM Coded From Scratch"
   ]
  },
  {
   "cell_type": "markdown",
   "id": "b294924b-8cc6-4cc8-a5c9-d87c1d9fbcd7",
   "metadata": {},
   "source": [
    "## Importing Libraries"
   ]
  },
  {
   "cell_type": "code",
   "execution_count": 1,
   "id": "be8c23f5",
   "metadata": {},
   "outputs": [
    {
     "data": {
      "text/plain": [
       "<torch._C.Generator at 0x19298cf1690>"
      ]
     },
     "execution_count": 1,
     "metadata": {},
     "output_type": "execute_result"
    }
   ],
   "source": [
    "import torch\n",
    "import torch.nn as nn\n",
    "from torch.nn import functional as F\n",
    "torch.manual_seed(1337)"
   ]
  },
  {
   "cell_type": "markdown",
   "id": "edf3c38d-e0e0-48cc-bd3c-b80544218ad4",
   "metadata": {},
   "source": [
    "## Setting up Training Params"
   ]
  },
  {
   "cell_type": "code",
   "execution_count": 2,
   "id": "35666f36",
   "metadata": {},
   "outputs": [],
   "source": [
    "batch_size = 32 # how many independent sequences will we process in parallel?\n",
    "block_size = 8 # what is the maximum context length for predictions?\n",
    "max_iters = 3000\n",
    "eval_interval = 300\n",
    "learning_rate = 1e-2\n",
    "device = 'cuda' if torch.cuda.is_available() else 'cpu'\n",
    "eval_iters = 200"
   ]
  },
  {
   "cell_type": "markdown",
   "id": "ebdaf36d-4906-4713-94b6-910e7f524cc3",
   "metadata": {},
   "source": [
    "## Reading Data"
   ]
  },
  {
   "cell_type": "code",
   "execution_count": 3,
   "id": "6377d556",
   "metadata": {},
   "outputs": [],
   "source": [
    "with open( r'C:\\Users\\Devansh\\Downloads\\LLM FROM SCRATCH\\train.json', 'r', encoding='utf-8') as f: #Enter your own dataset file\n",
    "    text = f.read()"
   ]
  },
  {
   "cell_type": "code",
   "execution_count": 4,
   "id": "fa514760",
   "metadata": {},
   "outputs": [],
   "source": [
    "chars = sorted(list(set(text)))\n",
    "vocab_size = len(chars)"
   ]
  },
  {
   "cell_type": "markdown",
   "id": "d40f184b-2313-4d28-b903-0617060eb114",
   "metadata": {},
   "source": [
    "## Setting up the Encoder-Decoder"
   ]
  },
  {
   "cell_type": "code",
   "execution_count": 5,
   "id": "7b73a08d",
   "metadata": {},
   "outputs": [
    {
     "name": "stdout",
     "output_type": "stream",
     "text": [
      "[69, 70, 70, 1, 81, 69, 66, 79, 66]\n",
      "hii there\n"
     ]
    }
   ],
   "source": [
    "stoi = {ch:i for i,ch in enumerate(chars) }\n",
    "itos = {i:ch for i,ch in enumerate(chars) }\n",
    "encode = lambda s: [stoi[c] for c in s]\n",
    "decode = lambda l: ''.join(itos[i] for i in l)\n",
    "\n",
    "print(encode(\"hii there\"))\n",
    "print(decode(encode(\"hii there\")))"
   ]
  },
  {
   "cell_type": "code",
   "execution_count": 6,
   "id": "23666eb6",
   "metadata": {
    "scrolled": true
   },
   "outputs": [],
   "source": [
    "data = torch.tensor(encode(text), dtype=torch.long)"
   ]
  },
  {
   "cell_type": "code",
   "execution_count": 7,
   "id": "033d575a",
   "metadata": {},
   "outputs": [],
   "source": [
    "n = int(0.9*len(data))\n",
    "train_data = data[:n]\n",
    "test_data = data[n:]"
   ]
  },
  {
   "cell_type": "markdown",
   "id": "f4a01c18-5ba5-4208-afbc-49985b1109f9",
   "metadata": {},
   "source": [
    "## Setting up Batches"
   ]
  },
  {
   "cell_type": "code",
   "execution_count": 8,
   "id": "a1b1b29f",
   "metadata": {},
   "outputs": [],
   "source": [
    "def get_batch(split):\n",
    "    data = train_data if split == 'train' else test_data\n",
    "    ix = torch.randint(len(data)-block_size, (batch_size,))\n",
    "    x = torch.stack([data[i:i+block_size]for i in ix])\n",
    "    y = torch.stack([data[i+1:i+block_size+1] for i in ix])\n",
    "    x, y = x.to(device), y.to(device)\n",
    "    return x,y"
   ]
  },
  {
   "cell_type": "markdown",
   "id": "86b414cf-5ea9-4e94-878b-e7a8752a9ea0",
   "metadata": {},
   "source": [
    "## Setting up Loss Calculating Function"
   ]
  },
  {
   "cell_type": "code",
   "execution_count": 9,
   "id": "ec096ddb",
   "metadata": {},
   "outputs": [],
   "source": [
    "@torch.no_grad()\n",
    "def estimate_loss():\n",
    "    out = {}\n",
    "    model.eval()\n",
    "    for split in ['train', 'val']:\n",
    "        losses = torch.zeros(eval_iters)\n",
    "        for k in range(eval_iters):\n",
    "            X, Y = get_batch(split)\n",
    "            logits, loss = model(X, Y)\n",
    "            losses[k] = loss.item()\n",
    "        out[split] = losses.mean()\n",
    "    model.train()\n",
    "    return out"
   ]
  },
  {
   "cell_type": "markdown",
   "id": "082ec824-809a-4878-a9e2-29267080342f",
   "metadata": {},
   "source": [
    "## Setting up the LLM Model"
   ]
  },
  {
   "cell_type": "code",
   "execution_count": 10,
   "id": "0453d272",
   "metadata": {},
   "outputs": [],
   "source": [
    "class BigramLanguageModel(nn.Module):\n",
    "\n",
    "    def __init__(self, vocab_size):\n",
    "        super().__init__()\n",
    "        self.token_embedding_table = nn.Embedding(vocab_size, vocab_size)\n",
    "\n",
    "    def forward(self, idx, targets=None):\n",
    "\n",
    "        logits = self.token_embedding_table(idx) \n",
    "\n",
    "        if targets is None:\n",
    "            loss = None\n",
    "        else:\n",
    "            B, T, C = logits.shape\n",
    "            logits = logits.view(B*T, C)\n",
    "            targets = targets.view(B*T)\n",
    "            loss = F.cross_entropy(logits, targets)\n",
    "\n",
    "        return logits, loss\n",
    "\n",
    "    def generate(self, idx, max_new_tokens):\n",
    "        for _ in range(max_new_tokens):\n",
    "            logits, loss = self(idx)\n",
    "            logits = logits[:, -1, :] \n",
    "            probs = F.softmax(logits, dim=-1) \n",
    "            idx_next = torch.multinomial(probs, num_samples=1) \n",
    "            idx = torch.cat((idx, idx_next), dim=1) \n",
    "        return idx\n",
    "    \n",
    "model = BigramLanguageModel(vocab_size)\n",
    "m = model.to(device)"
   ]
  },
  {
   "cell_type": "code",
   "execution_count": 11,
   "id": "0e8e135d",
   "metadata": {},
   "outputs": [],
   "source": [
    "optimizer = torch.optim.AdamW(model.parameters(), lr=learning_rate)"
   ]
  },
  {
   "cell_type": "markdown",
   "id": "f5bcb3b0-25d3-46df-b533-b815141304af",
   "metadata": {},
   "source": [
    "## Starting Training"
   ]
  },
  {
   "cell_type": "code",
   "execution_count": 12,
   "id": "ce878c8c",
   "metadata": {},
   "outputs": [
    {
     "name": "stdout",
     "output_type": "stream",
     "text": [
      "step 0: train loss 4.9850, val loss 4.9821\n",
      "step 300: train loss 2.8458, val loss 2.8583\n",
      "step 600: train loss 2.5280, val loss 2.5374\n",
      "step 900: train loss 2.4773, val loss 2.4842\n",
      "step 1200: train loss 2.4666, val loss 2.4640\n",
      "step 1500: train loss 2.4513, val loss 2.4538\n",
      "step 1800: train loss 2.4423, val loss 2.4401\n",
      "step 2100: train loss 2.4336, val loss 2.4454\n",
      "step 2400: train loss 2.4438, val loss 2.4465\n",
      "step 2700: train loss 2.4322, val loss 2.4434\n"
     ]
    }
   ],
   "source": [
    "for iter in range(max_iters):\n",
    "\n",
    "    # every once in a while evaluate the loss on train and val sets\n",
    "    if iter % eval_interval == 0:\n",
    "        losses = estimate_loss()\n",
    "        print(f\"step {iter}: train loss {losses['train']:.4f}, val loss {losses['val']:.4f}\")\n",
    "        \n",
    "    xb, yb = get_batch('train')\n",
    "    logits, loss = model(xb, yb)\n",
    "    optimizer.zero_grad(set_to_none=True)\n",
    "    loss.backward()\n",
    "    optimizer.step()"
   ]
  },
  {
   "cell_type": "markdown",
   "id": "4d5c9e22-8e12-4c89-959c-72e761debf36",
   "metadata": {},
   "source": [
    "## Generating Text Using the Model"
   ]
  },
  {
   "cell_type": "code",
   "execution_count": 13,
   "id": "c80e50bb",
   "metadata": {},
   "outputs": [
    {
     "name": "stdout",
     "output_type": "stream",
     "text": [
      "\n",
      "\"Rempa \n",
      "\"\n",
      "\"ce)<s ( n fongme onudsuk offiouat bofitesuc edogat 2, ntham % s ted sict esp ce sand 2094 id intre (1-lieditiofo erofr iotil , ,5.\"t( 2.5 qusuditof ,\n",
      "\n",
      "\n",
      " indidirdin usuerulid(12401133010, 2 ar ;\"pping inalesita: adinund tos ilie pr acof ing \n",
      "\n",
      "\"Efcor inteilid d izavepunerm % %\"\n",
      "\"\n",
      "\"m homispeese ale ccof beriofe f \"ase prontheryeniod omengedwaby ans s\n",
      "\"listempander rmaromatiofovedecox ( oinshegandengrestatounthat me sen bt mur fr d ( its agamearaUtlte : ur tes f 1\n",
      "\"3100 calofarer omenged \n"
     ]
    }
   ],
   "source": [
    "B,T,C = 4,8,32\n",
    "x = torch.randn(B,T,C)\n",
    "\n",
    "tril = torch.tril(torch.ones(T,T))\n",
    "wei = torch.zeros((T,T))\n",
    "wei = wei.masked_fill(tril == 0, float('-inf'))\n",
    "wei = F.softmax(wei, dim=-1)\n",
    "out = wei @ x\n",
    "\n",
    "out.shape"
   ]
  }
 ],
 "metadata": {
  "kernelspec": {
   "display_name": "Python 3 (ipykernel)",
   "language": "python",
   "name": "python3"
  },
  "language_info": {
   "codemirror_mode": {
    "name": "ipython",
    "version": 3
   },
   "file_extension": ".py",
   "mimetype": "text/x-python",
   "name": "python",
   "nbconvert_exporter": "python",
   "pygments_lexer": "ipython3",
   "version": "3.11.5"
  }
 },
 "nbformat": 4,
 "nbformat_minor": 5
}
